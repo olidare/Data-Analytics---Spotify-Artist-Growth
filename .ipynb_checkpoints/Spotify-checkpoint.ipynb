{
 "cells": [
  {
   "cell_type": "markdown",
   "id": "261670a9-8200-40f7-80d3-2a3d6400086c",
   "metadata": {},
   "source": [
    "# **La Ramona - Spotify Growth**"
   ]
  },
  {
   "cell_type": "markdown",
   "id": "3dcede34-ddeb-43dc-ad8d-9766e2193039",
   "metadata": {},
   "source": [
    "## **Exploratory Data Analysis**"
   ]
  },
  {
   "cell_type": "markdown",
   "id": "5462552e-2d3d-4b1e-9c0b-ce940110a73f",
   "metadata": {},
   "source": [
    "### **Imports and data loading**\n"
   ]
  },
  {
   "cell_type": "code",
   "execution_count": null,
   "id": "5277b165-2c35-4e19-b0c3-e5b86263c409",
   "metadata": {},
   "outputs": [],
   "source": []
  },
  {
   "cell_type": "code",
   "execution_count": null,
   "id": "9d0d323c-1139-46ff-aef8-9105e0457ed9",
   "metadata": {},
   "outputs": [],
   "source": []
  },
  {
   "cell_type": "code",
   "execution_count": null,
   "id": "f43dfef7-0bac-4b68-abd7-457175304452",
   "metadata": {},
   "outputs": [],
   "source": []
  },
  {
   "cell_type": "code",
   "execution_count": null,
   "id": "02721a77-ecbd-489d-8172-24d46d22c2d7",
   "metadata": {},
   "outputs": [],
   "source": []
  },
  {
   "cell_type": "code",
   "execution_count": null,
   "id": "1d20d329-2cb6-4516-87c3-d555eaa1f8f1",
   "metadata": {},
   "outputs": [],
   "source": []
  },
  {
   "cell_type": "code",
   "execution_count": null,
   "id": "0b5cdc73-9402-4380-870d-229cf76eb38e",
   "metadata": {},
   "outputs": [],
   "source": []
  },
  {
   "cell_type": "code",
   "execution_count": null,
   "id": "6bba1d95-e2ff-4160-b0c2-33e1ada24ec2",
   "metadata": {},
   "outputs": [],
   "source": []
  },
  {
   "cell_type": "code",
   "execution_count": null,
   "id": "94fc0f2f-9b47-43b7-8a58-d687b46571f7",
   "metadata": {},
   "outputs": [],
   "source": []
  },
  {
   "cell_type": "markdown",
   "id": "80b5de00-90ef-42ad-a039-9ea6173bad5a",
   "metadata": {},
   "source": [
    "#### Ideas\n",
    "\n",
    "- The top 10 highest days of streams.\n",
    "- similar artists to her in cities where she is popular.\n",
    "- see if theres a link between instagram posts and spotify\n",
    "- analyse the SEO of spotify\n",
    "- find the  Audio Analysis of the top tracks, find similar songs from other artists.\n",
    "- find playlists which contain songs with a similar structure and musical content, including rhythm, pitch, and timbre.\n",
    "- understand the audience tastes, what else do they listen to.\n"
   ]
  },
  {
   "cell_type": "markdown",
   "id": "6726d10a-8d26-4df7-8586-7e59effd47c6",
   "metadata": {},
   "source": [
    "How to increase streams\n",
    "\n",
    "- creating great playlists with own songs in and other favourite songs\n",
    "- https://www.youtube.com/watch?v=Cyvtw_zpq8A&t=1s"
   ]
  },
  {
   "cell_type": "code",
   "execution_count": null,
   "id": "2ee75973-e11d-4286-859c-3dee328af110",
   "metadata": {},
   "outputs": [],
   "source": []
  },
  {
   "cell_type": "code",
   "execution_count": null,
   "id": "f5f9dd5a-1f89-48e5-b3e1-f29daa16741b",
   "metadata": {},
   "outputs": [],
   "source": []
  },
  {
   "cell_type": "code",
   "execution_count": null,
   "id": "c0f41174-951c-4bb2-85d4-c6c1b586d389",
   "metadata": {},
   "outputs": [],
   "source": []
  },
  {
   "cell_type": "code",
   "execution_count": null,
   "id": "2163906a-5a4f-410c-b071-51676d9b94f6",
   "metadata": {},
   "outputs": [],
   "source": []
  },
  {
   "cell_type": "code",
   "execution_count": null,
   "id": "4d8b704f-3e31-4594-a275-e324c74980f1",
   "metadata": {},
   "outputs": [],
   "source": []
  },
  {
   "cell_type": "code",
   "execution_count": null,
   "id": "2bc21c70-1ccd-4ac3-a8ea-741c96d2cd68",
   "metadata": {},
   "outputs": [],
   "source": []
  },
  {
   "cell_type": "code",
   "execution_count": null,
   "id": "0d598bc0-8ea0-4e37-9905-c12f3120c5d3",
   "metadata": {},
   "outputs": [],
   "source": []
  },
  {
   "cell_type": "code",
   "execution_count": null,
   "id": "0e0a0052-1ba7-4fb4-9027-7d13f97791b1",
   "metadata": {},
   "outputs": [],
   "source": []
  },
  {
   "cell_type": "markdown",
   "id": "5e28f655-6714-43a7-ad1c-b9dfdca12ffe",
   "metadata": {},
   "source": [
    "### Connecting with the Spotify API (spotipy)"
   ]
  },
  {
   "cell_type": "code",
   "execution_count": 38,
   "id": "3f96e99c-21ff-4a34-9b7f-02a6e18e86c3",
   "metadata": {},
   "outputs": [],
   "source": [
    "import yaml\n",
    "import spotipy\n",
    "from spotipy.oauth2 import SpotifyOAuth"
   ]
  },
  {
   "cell_type": "code",
   "execution_count": 40,
   "id": "07eea070-83bb-4216-862c-7822ff7104d5",
   "metadata": {},
   "outputs": [],
   "source": [
    "# Load YAML credentials safely\n",
    "with open(\"../Keys/spotify_credentials.yaml\", 'r') as file:\n",
    "    creds = yaml.safe_load(file)  # Prefer safe_load over load"
   ]
  },
  {
   "cell_type": "code",
   "execution_count": 42,
   "id": "0260f766-4788-41d3-bdb0-920ac8f88953",
   "metadata": {},
   "outputs": [
    {
     "name": "stdout",
     "output_type": "stream",
     "text": [
      "Logged in with new credentials.\n"
     ]
    }
   ],
   "source": [
    "# Login with Spotify Credentials\n",
    "try:\n",
    "    # Authenticate\n",
    "    sp = spotipy.Spotify(auth_manager=SpotifyOAuth(\n",
    "        client_id=creds['client_id'],\n",
    "        client_secret=creds['client_secret'],\n",
    "        redirect_uri=creds['redirect_uri'],\n",
    "        scope=\"user-read-private user-read-email user-library-read user-top-read\"\n",
    "    ))\n",
    "    print(f\"Logged in with new credentials.\")\n",
    "    \n",
    "except SpotifyException as e:\n",
    "    print(f\"Spotify API error: {e}\")\n",
    "except Exception as e:\n",
    "    print(f\"An unexpected error occurred: {e}\")\n",
    "\n"
   ]
  },
  {
   "cell_type": "markdown",
   "id": "8bd9ccb5-4c59-470c-a16c-c93791f1f09a",
   "metadata": {},
   "source": [
    "### Get List of Top Tracks"
   ]
  },
  {
   "cell_type": "code",
   "execution_count": 77,
   "id": "fd0e4ca7-d4d8-4b34-bb1d-1d988a39306d",
   "metadata": {},
   "outputs": [
    {
     "name": "stdout",
     "output_type": "stream",
     "text": [
      "1: ('5BoA6gJzAUfa57JQ0WBt4t', 'Brío')\n",
      "2: ('5YWDjRVcDMpiq2c5aTupFA', 'Señorita Ley D')\n",
      "3: ('3qY0oKFlzTYfPoXS9cnn8z', 'Cherokee')\n",
      "4: ('45U5BZPnQtWD0z2GWp04lc', 'Se Acabó el Amor')\n",
      "5: ('07l2bAjmNxSmuDdH3ghDaX', 'Quién Contra el Amor')\n",
      "6: ('5XJja9JOi51ypN62WtY6R0', 'Te Tengo y No Te Tengo')\n",
      "7: ('5QCXu423YBBI2YiasmUvnb', 'Nunca Me Olvides')\n",
      "8: ('7u7ROQeVY9pDVQuM5P76rO', 'Quiero Sentirlo Otra Vez')\n",
      "9: ('4MkYxxx9s3QxRXASc9ZXen', 'Biutiful')\n",
      "10: ('2M4UKnFXll9PYo5a2Zr6b9', 'Quemarlo Todo')\n"
     ]
    }
   ],
   "source": [
    "artist_top_tracks = sp.artist_top_tracks(creds['artist_id'])\n",
    "# select the top 10 track names\n",
    "i = 1\n",
    "if artist_top_tracks != None:\n",
    "    for track in artist_top_tracks['tracks']:\n",
    "        print(f\"{i}: {track[\"id\"], track['name']}\")\n",
    "        i += 1\n",
    "\n"
   ]
  },
  {
   "cell_type": "code",
   "execution_count": null,
   "id": "01e3db9c-7a63-47e3-ba99-1f0fb68a1f33",
   "metadata": {},
   "outputs": [],
   "source": []
  }
 ],
 "metadata": {
  "kernelspec": {
   "display_name": "Python 3 (ipykernel)",
   "language": "python",
   "name": "python3"
  },
  "language_info": {
   "codemirror_mode": {
    "name": "ipython",
    "version": 3
   },
   "file_extension": ".py",
   "mimetype": "text/x-python",
   "name": "python",
   "nbconvert_exporter": "python",
   "pygments_lexer": "ipython3",
   "version": "3.12.4"
  }
 },
 "nbformat": 4,
 "nbformat_minor": 5
}
