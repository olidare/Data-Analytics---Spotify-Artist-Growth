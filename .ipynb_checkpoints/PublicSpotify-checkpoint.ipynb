{
 "cells": [
  {
   "cell_type": "markdown",
   "id": "094d867c-6351-47ec-bd2e-cd454676a2ca",
   "metadata": {},
   "source": [
    "# **La Ramona - Spotify API**"
   ]
  },
  {
   "cell_type": "markdown",
   "id": "a8c29c50-221f-4aed-a2e8-555a14bbadfe",
   "metadata": {},
   "source": [
    "### Introduction\n",
    "\n",
    "This notebook presents an Exploratory Data Analysis of Spotify streaming data collected via Public Spotify API. \n",
    "\n",
    "The aim is to try and extract more detailed information regarding the songs, audience behaviour and also regarding similar artists.\n"
   ]
  },
  {
   "cell_type": "markdown",
   "id": "f33c3e6a-dfb5-48f0-916f-9e86783853d9",
   "metadata": {},
   "source": [
    "#### Connecting with the Spotify API (spotipy)"
   ]
  },
  {
   "cell_type": "code",
   "execution_count": 10,
   "id": "103901d8-5cc9-4fd2-b42a-d0c3b8f4c0af",
   "metadata": {},
   "outputs": [],
   "source": [
    "import yaml\n",
    "import spotipy\n",
    "from spotipy.oauth2 import SpotifyOAuth"
   ]
  },
  {
   "cell_type": "code",
   "execution_count": 19,
   "id": "8690b3b5-0eef-418b-95e9-71f3a927070e",
   "metadata": {},
   "outputs": [
    {
     "name": "stdout",
     "output_type": "stream",
     "text": [
      "Logged in with new credentials.\n"
     ]
    }
   ],
   "source": [
    "with open(\"../Keys/spotify_credentials.yaml\", 'r') as file:\n",
    "    creds = yaml.safe_load(file)  # Prefer safe_load over load\n",
    "# Login with Spotify Credentials\n",
    "try:\n",
    "    # Authenticate\n",
    "    sp = spotipy.Spotify(auth_manager=SpotifyOAuth(\n",
    "        client_id=creds['client_id'],\n",
    "        client_secret=creds['client_secret'],\n",
    "        redirect_uri=creds['redirect_uri'],\n",
    "        scope=\"user-read-private user-read-email user-library-read user-top-read\"\n",
    "    ))\n",
    "    print(f\"Logged in with new credentials.\")\n",
    "    \n",
    "except SpotifyException as e:\n",
    "    print(f\"Spotify API error: {e}\")\n",
    "except Exception as e:\n",
    "    print(f\"An unexpected error occurred: {e}\")\n",
    "\n"
   ]
  },
  {
   "cell_type": "markdown",
   "id": "7b862579-91fa-493b-9611-646f1933b570",
   "metadata": {},
   "source": [
    "### Get List of Top Tracks"
   ]
  },
  {
   "cell_type": "code",
   "execution_count": null,
   "id": "5e59d8a0-c36f-4d16-aa27-9a0a1cfb03c1",
   "metadata": {},
   "outputs": [],
   "source": [
    "artist_top_tracks = sp.artist_top_tracks(creds['artist_id'])\n",
    "# select the top 10 track names\n",
    "i = 1\n",
    "if artist_top_tracks != None:\n",
    "    for track in artist_top_tracks['tracks']:\n",
    "        print(f\"{i}: {track[\"id\"], track['name']}\")\n",
    "        i += 1\n",
    "\n"
   ]
  },
  {
   "cell_type": "code",
   "execution_count": null,
   "id": "29328439-ec88-489d-af98-4fd18da6c29a",
   "metadata": {},
   "outputs": [],
   "source": []
  },
  {
   "cell_type": "code",
   "execution_count": null,
   "id": "9993d9cd-e770-4e53-978d-fee0b36a2d13",
   "metadata": {},
   "outputs": [],
   "source": []
  },
  {
   "cell_type": "code",
   "execution_count": null,
   "id": "a8e75ce9-22e4-4a3b-a72d-943a6d6449bc",
   "metadata": {},
   "outputs": [],
   "source": []
  },
  {
   "cell_type": "code",
   "execution_count": null,
   "id": "e2d337ac-b84a-4c9e-9fcf-1ae5794e2e1f",
   "metadata": {},
   "outputs": [],
   "source": []
  },
  {
   "cell_type": "code",
   "execution_count": null,
   "id": "4bdb3c2e-1220-42c2-b374-ad922e366b95",
   "metadata": {},
   "outputs": [],
   "source": []
  },
  {
   "cell_type": "code",
   "execution_count": null,
   "id": "72a311a9-fac7-45b1-9c16-0e4708a87651",
   "metadata": {},
   "outputs": [],
   "source": []
  },
  {
   "cell_type": "code",
   "execution_count": null,
   "id": "73213fef-72a4-473a-9092-c5600a890f84",
   "metadata": {},
   "outputs": [],
   "source": []
  },
  {
   "cell_type": "code",
   "execution_count": null,
   "id": "6094c244-1b1c-4a7b-8e20-bd7ce55de679",
   "metadata": {},
   "outputs": [],
   "source": []
  },
  {
   "cell_type": "code",
   "execution_count": null,
   "id": "c1d67a54-732e-4f13-bef8-ccf5f4513c8c",
   "metadata": {},
   "outputs": [],
   "source": []
  },
  {
   "cell_type": "code",
   "execution_count": null,
   "id": "59732df9-6171-4c70-9d4b-fc2630afa4a1",
   "metadata": {},
   "outputs": [],
   "source": []
  },
  {
   "cell_type": "code",
   "execution_count": null,
   "id": "950bc4be-975d-499a-8aca-635662062116",
   "metadata": {},
   "outputs": [],
   "source": []
  },
  {
   "cell_type": "code",
   "execution_count": null,
   "id": "23a1b56d-4471-49d0-8211-12094139beaf",
   "metadata": {},
   "outputs": [],
   "source": []
  },
  {
   "cell_type": "code",
   "execution_count": null,
   "id": "479e5618-11d8-474a-9691-7d308296935c",
   "metadata": {},
   "outputs": [],
   "source": []
  },
  {
   "cell_type": "code",
   "execution_count": null,
   "id": "7cb5e888-86c0-4b13-83e3-70f3c17d6721",
   "metadata": {},
   "outputs": [],
   "source": []
  },
  {
   "cell_type": "code",
   "execution_count": null,
   "id": "b7787793-118a-430c-bbc6-4b316621b81a",
   "metadata": {},
   "outputs": [],
   "source": []
  },
  {
   "cell_type": "code",
   "execution_count": null,
   "id": "092f13eb-d4ab-4c7d-ad88-cc6fcb6603e9",
   "metadata": {},
   "outputs": [],
   "source": []
  },
  {
   "cell_type": "code",
   "execution_count": null,
   "id": "b64b0e17-b760-42ea-a475-58de0bb110ea",
   "metadata": {},
   "outputs": [],
   "source": []
  },
  {
   "cell_type": "code",
   "execution_count": null,
   "id": "d55ed977-6a53-4f7b-ab5d-05f89da5f9d4",
   "metadata": {},
   "outputs": [],
   "source": []
  }
 ],
 "metadata": {
  "kernelspec": {
   "display_name": "Python 3 (ipykernel)",
   "language": "python",
   "name": "python3"
  },
  "language_info": {
   "codemirror_mode": {
    "name": "ipython",
    "version": 3
   },
   "file_extension": ".py",
   "mimetype": "text/x-python",
   "name": "python",
   "nbconvert_exporter": "python",
   "pygments_lexer": "ipython3",
   "version": "3.12.4"
  }
 },
 "nbformat": 4,
 "nbformat_minor": 5
}
